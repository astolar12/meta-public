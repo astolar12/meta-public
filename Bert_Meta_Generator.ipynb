{
  "nbformat": 4,
  "nbformat_minor": 0,
  "metadata": {
    "colab": {
      "name": "Bert Meta_Generator.ipynb",
      "provenance": []
    },
    "kernelspec": {
      "name": "python3",
      "display_name": "Python 3"
    },
    "language_info": {
      "name": "python"
    }
  },
  "cells": [
    {
      "cell_type": "code",
      "metadata": {
        "id": "4O0J9zXGWDI_"
      },
      "source": [
        "!git clone https://github.com/mingchen62/PreSumm.git"
      ],
      "execution_count": null,
      "outputs": []
    },
    {
      "cell_type": "code",
      "metadata": {
        "id": "qNagK2rqWGsH"
      },
      "source": [
        "!pip install torch==1.1.0 pytorch_transformers tensorboardX multiprocess pyrouge"
      ],
      "execution_count": null,
      "outputs": []
    },
    {
      "cell_type": "code",
      "metadata": {
        "id": "iN6ts60LWKN2"
      },
      "source": [
        "%cd /content/PreSumm/models\n",
        "\n",
        "#CNN/DM Extractive bertext_cnndm_transformer.pt\n",
        "!gdown https://drive.google.com/uc?id=1kKWoV0QCbeIuFt85beQgJ4v0lujaXobJ&export=download\n",
        "\n",
        "#CNN/DM Abstractive model_step_148000.pt \n",
        "!gdown https://drive.google.com/uc?id=1-IKVCtc4Q-BdZpjXc4s70_fRsWnjtYLr&export=download\n",
        "\n",
        "#XSUM (One Sentence Summary) model_step_30000.pt \n",
        "!gdown https://drive.google.com/uc?id=1H50fClyTkNprWJNh10HWdGEdDdQIkzsI&export=download\n"
      ],
      "execution_count": null,
      "outputs": []
    },
    {
      "cell_type": "code",
      "metadata": {
        "id": "f6ZsnqFa8TqK"
      },
      "source": [
        "!unzip /content/PreSumm/models/bertext_cnndm_transformer.zip\n",
        "!unzip /content/PreSumm/models/bertsumextabs_cnndm_final_model.zip\n",
        "!unzip /content/PreSumm/models/bertsumextabs_xsum_final_model.zip\n",
        "\n",
        "!mkdir /content/PreSumm/models/CNN_DailyMail_Extractive\n",
        "!mkdir /content/PreSumm/models/CNN_DailyMail_Abstractive\n",
        "!mkdir /content/PreSumm/models/XSUM_OneSentence\n",
        "\n",
        "!mv /content/PreSumm/models/bertext_cnndm_transformer.pt /content/PreSumm/models/CNN_DailyMail_Extractive\n",
        "!mv /content/PreSumm/models/model_step_148000.pt /content/PreSumm/models/CNN_DailyMail_Abstractive\n",
        "!mv /content/PreSumm/models/model_step_30000.pt /content/PreSumm/models/XSUM_OneSentence"
      ],
      "execution_count": null,
      "outputs": []
    },
    {
      "cell_type": "code",
      "metadata": {
        "id": "9Egja7FLp6J7"
      },
      "source": [
        "!mkdir /content/PreSumm/bert_data_test/\n",
        "!mkdir /content/PreSumm/bert_data/cnndm\n",
        "\n",
        "%cd /content/PreSumm/bert_data/cnndm"
      ],
      "execution_count": null,
      "outputs": []
    },
    {
      "cell_type": "code",
      "metadata": {
        "id": "SBfZ4OobqCoe"
      },
      "source": [
        "!pip install requests-html\n",
        "\n",
        "from requests_html import HTMLSession\n",
        "session = HTMLSession()\n",
        "\n"
      ],
      "execution_count": null,
      "outputs": []
    },
    {
      "cell_type": "code",
      "metadata": {
        "id": "KAyLg6-IGdjC"
      },
      "source": [
        "url_1 = \"https://www.searchenginejournal.com/uncover-powerful-data-stories-python/328471/\"\n",
        "with session.get(url_1) as r:\n",
        "  selector=\"#post-328471 > div.sej-article.entrycontent > div\"\n",
        "  article_1 = r.html.find(selector, first=True, _encoding= None)\n",
        "\n",
        "  text_1 = article_1.text\n",
        "\n",
        "url_2 = \"https://www.searchenginejournal.com/mediocre-core-web-vitals-enough-if-competitors-are-worse/408322/\"\n",
        "with session.get(url_2) as r_2:\n",
        "  selector_2=\"#looop_parent > div:nth-child(2) > div.col-md-8.s-post-section.s-post-section_1\"\n",
        "  article_2 = r.html.find(selector_2, first=True, _encoding= None)\n",
        "\n",
        "  text_2 = article_2.text"
      ],
      "execution_count": null,
      "outputs": []
    },
    {
      "cell_type": "code",
      "metadata": {
        "id": "8OZbBUIHxpV2"
      },
      "source": [
        "text = text.splitlines(True) #keep newlines"
      ],
      "execution_count": null,
      "outputs": []
    },
    {
      "cell_type": "code",
      "metadata": {
        "id": "2sRyLDh66OrX"
      },
      "source": [
        "text = text[1:-5] #remove sponsor code and end meta data"
      ],
      "execution_count": null,
      "outputs": []
    },
    {
      "cell_type": "code",
      "metadata": {
        "id": "y86-_DOR6PEv"
      },
      "source": [
        "with open(\"python-data-stories.txt\", \"a\") as f:\n",
        "\n",
        "  f.writelines(text)"
      ],
      "execution_count": null,
      "outputs": []
    },
    {
      "cell_type": "code",
      "metadata": {
        "id": "DONwDTzi6T0U"
      },
      "source": [
        "!wget https://gist.githubusercontent.com/hamletbatista/f2741a3a74e4c5cc46ce9547b489ec36/raw/ccab9cc3376901b2f6b0ba0c4bbd03fa48c1b159/summarizer.patch"
      ],
      "execution_count": null,
      "outputs": []
    },
    {
      "cell_type": "code",
      "metadata": {
        "id": "_gSGaMdc6fZB"
      },
      "source": [
        "!patch < summarizer.patch"
      ],
      "execution_count": null,
      "outputs": []
    },
    {
      "cell_type": "code",
      "metadata": {
        "id": "LDH84XC16maz"
      },
      "source": [
        "import nltk\n",
        "nltk.download('punkt')"
      ],
      "execution_count": null,
      "outputs": []
    },
    {
      "cell_type": "code",
      "metadata": {
        "id": "IB61XiaM67AP"
      },
      "source": [
        "#CNN_DM abstractive\n",
        "\n",
        "%cd /content/PreSumm/src\n",
        "\n",
        "!python summarizer.py -task abs -mode test -test_from /content/PreSumm/src/model_step_148000.pt -batch_size 32 -test_batch_size 500 -bert_data_path ../bert_data/cnndm -log_file ../logs/val_abs_bert_cnndm -report_rouge False  -sep_optim true -use_interval true -visible_gpus -1 -max_pos 512 -max_src_nsents 100 -max_length 200 -alpha 0.95 -min_length 50 -result_path ../results/abs_bert_cnndm_sample"
      ],
      "execution_count": null,
      "outputs": []
    },
    {
      "cell_type": "code",
      "metadata": {
        "id": "MWrmKnAkCr4h"
      },
      "source": [
        "!ls -l /content/PreSumm/results"
      ],
      "execution_count": null,
      "outputs": []
    },
    {
      "cell_type": "code",
      "metadata": {
        "id": "hpVUfOIMCu0S"
      },
      "source": [
        "!head /content/PreSumm/results/abs_bert_cnndm_sample.148000.candidate"
      ],
      "execution_count": null,
      "outputs": []
    },
    {
      "cell_type": "code",
      "metadata": {
        "id": "1K2WLrJzDy87"
      },
      "source": [
        ""
      ],
      "execution_count": null,
      "outputs": []
    }
  ]
}